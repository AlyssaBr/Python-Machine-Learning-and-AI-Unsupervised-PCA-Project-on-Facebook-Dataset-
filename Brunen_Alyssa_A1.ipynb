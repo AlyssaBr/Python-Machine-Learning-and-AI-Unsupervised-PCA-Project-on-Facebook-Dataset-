{
 "cells": [
  {
   "cell_type": "markdown",
   "metadata": {
    "deletable": false,
    "editable": false,
    "id": "bTfH8yDJNP5N"
   },
   "source": [
    "<hr style=\"height:.9px;border:none;color:#333;background-color:#333;\" />\n",
    "<hr style=\"height:.9px;border:none;color:#333;background-color:#333;\" />\n",
    "\n",
    "<br> **Unsupervised Analysis Project** <br><br>\n",
    "DAT-5329 | Introduction to Machine Learning and AI<br>\n",
    "Alyssa Brunen<br>\n",
    "Hult International Business School San Francisco<br><br><br>\n",
    "\n",
    "<hr style=\"height:.9px;border:none;color:#333;background-color:#333;\" />\n",
    "<hr style=\"height:.9px;border:none;color:#333;background-color:#333;\" />\n"
   ]
  },
  {
   "cell_type": "markdown",
   "metadata": {
    "deletable": false,
    "editable": false,
    "id": "vyIK_Y_1Nv3s"
   },
   "source": [
    "# Introduction And Exploratory Analysis"
   ]
  },
  {
   "cell_type": "markdown",
   "metadata": {
    "deletable": false,
    "editable": false,
    "id": "coshkerlNgdz"
   },
   "source": [
    "This analysis was conducted to advise the client on the Facebook elements that lead to success for creators, specifically in the Thai market. It is thought that video social media content has a biggest effect on engagement, which is why most creators are advised to do as many videos as possible to increase viewership and exposure. In this analysis, this is further analyzed by beginning to use k-means clustering and seperating the different post-types into discrete groups. This will be done by taking into account the kind of post, their publishing days and the metrics of the engagement it received. After this, logistic regression modeling will help us categorize the posts of creators into video and non-videos, to further understand the hypothesis that videos have the best effect on engegement. The goal of this analysis is to find trends in the posts, their interactions by viewers and also possibly suggesting a new content strategy. "
   ]
  },
  {
   "cell_type": "code",
   "execution_count": 1,
   "metadata": {
    "deletable": false,
    "editable": false,
    "id": "TYVpmSoYeZB9"
   },
   "outputs": [],
   "source": [
    "# Importimng all packages needed \n",
    "\n",
    "import pandas as pd\n",
    "import numpy as np\n",
    "import matplotlib.pyplot as plt\n",
    "import seaborn as sns\n",
    "from sklearn.decomposition import PCA\n",
    "from sklearn.cluster import KMeans\n",
    "from sklearn.preprocessing import StandardScaler\n",
    "from sklearn.model_selection import train_test_split\n",
    "from sklearn.linear_model import LogisticRegression\n",
    "from sklearn.metrics import accuracy_score, roc_auc_score, confusion_matrix\n",
    "from sklearn.preprocessing import StandardScaler\n",
    "from sklearn.decomposition import PCA\n",
    "import matplotlib.pyplot as plt\n",
    "from sklearn.cluster import KMeans"
   ]
  },
  {
   "cell_type": "markdown",
   "metadata": {
    "deletable": false,
    "editable": false
   },
   "source": [
    "**Dataset Exploration**"
   ]
  },
  {
   "cell_type": "code",
   "execution_count": 2,
   "metadata": {
    "colab": {
     "base_uri": "https://localhost:8080/",
     "height": 1000
    },
    "deletable": false,
    "editable": false,
    "id": "ZzFKNO78fOpR",
    "outputId": "25ab27bc-8725-42dc-9001-fbd79cc2ea4a"
   },
   "outputs": [
    {
     "name": "stdout",
     "output_type": "stream",
     "text": [
      "   status_id status_type      time_published  num_comments  num_shares  \\\n",
      "0          1       video 2018-04-22 06:00:00           512         262   \n",
      "1          2       photo 2018-04-18 03:22:00             0           0   \n",
      "2          3       video 2018-04-18 00:24:00           614          72   \n",
      "3          4       photo 2018-04-11 04:53:00             9           1   \n",
      "4          5       photo 2018-04-09 02:06:00             4           0   \n",
      "\n",
      "   num_likes  num_loves  num_wows  num_hahas  num_sads  num_angrys  \n",
      "0        432         92         3          1         1           0  \n",
      "1        204          9         0          0         0           0  \n",
      "2        418         70        10          2         0           3  \n",
      "3        167          3         0          0         0           0  \n",
      "4        213          5         4          0         0           0  \n"
     ]
    }
   ],
   "source": [
    "# Bringin in the dataset\n",
    "facebook_data = pd.read_excel(\"facebook_live_data.xlsx\") \n",
    "print(facebook_data.head()) #print first few rows"
   ]
  },
  {
   "cell_type": "markdown",
   "metadata": {
    "deletable": false,
    "editable": false
   },
   "source": [
    "After loading the initial dataset, exploratory data analysis has been conducted. \n",
    "Firstly, the loaded dataset was inspected by loading the first few rows, in order to get a better grasp at the input that can be found in there. "
   ]
  },
  {
   "cell_type": "markdown",
   "metadata": {
    "deletable": false,
    "editable": false
   },
   "source": [
    "**Countplot Visualization**"
   ]
  },
  {
   "cell_type": "code",
   "execution_count": 3,
   "metadata": {
    "deletable": false,
    "editable": false
   },
   "outputs": [
    {
     "name": "stderr",
     "output_type": "stream",
     "text": [
      "/Users/alyssabrunen/anaconda3/lib/python3.11/site-packages/seaborn/_oldcore.py:1498: FutureWarning: is_categorical_dtype is deprecated and will be removed in a future version. Use isinstance(dtype, CategoricalDtype) instead\n",
      "  if pd.api.types.is_categorical_dtype(vector):\n",
      "/Users/alyssabrunen/anaconda3/lib/python3.11/site-packages/seaborn/_oldcore.py:1498: FutureWarning: is_categorical_dtype is deprecated and will be removed in a future version. Use isinstance(dtype, CategoricalDtype) instead\n",
      "  if pd.api.types.is_categorical_dtype(vector):\n",
      "/Users/alyssabrunen/anaconda3/lib/python3.11/site-packages/seaborn/_oldcore.py:1498: FutureWarning: is_categorical_dtype is deprecated and will be removed in a future version. Use isinstance(dtype, CategoricalDtype) instead\n",
      "  if pd.api.types.is_categorical_dtype(vector):\n"
     ]
    },
    {
     "data": {
      "image/png": "[encoded data removed]",
      "text/plain": [
       "<Figure size 800x600 with 1 Axes>"
      ]
     },
     "metadata": {},
     "output_type": "display_data"
    }
   ],
   "source": [
    "# Data Preprocessing\n",
    "# Convert 'time_published' column to datetime, to make it better for analysis\n",
    "facebook_data['time_published'] = pd.to_datetime(facebook_data['time_published'])\n",
    "\n",
    "# Exploratory Data Analysis in form of a countplot, to see the county of the different types of \n",
    "# posts we have in the dataset \n",
    "plt.figure(figsize=(8, 6))\n",
    "sns.countplot(x='status_type', data=facebook_data, palette='plasma')  # Changed palette to 'Pastel1'\n",
    "plt.title('Distribution of Post Types') #title for plot\n",
    "plt.xlabel('Post Type') #x axis lable for plot\n",
    "plt.ylabel('Count') #y axis label for plot\n",
    "plt.show()"
   ]
  },
  {
   "cell_type": "markdown",
   "metadata": {
    "deletable": false,
    "editable": false
   },
   "source": [
    "After the initial data was looked at, it is interesting to go back into the business question based on the different types of posts that can be shared by creators. Here a countplot was created that analyzes the counts between the post types of photos, videos and regular texts. This countplot shows that video types of posts for a status update is beeing shared way more significantly than photos or just purely text. This brings us back to the initial hypothesis that it makes sense for the strategists to build their social media presence around the sharing of as many videos as possible. \n"
   ]
  },
  {
   "cell_type": "markdown",
   "metadata": {
    "deletable": false,
    "editable": false
   },
   "source": [
    "**Correlation Heatmap Visualization**"
   ]
  },
  {
   "cell_type": "code",
   "execution_count": 4,
   "metadata": {
    "deletable": false,
    "editable": false
   },
   "outputs": [
    {
     "data": {
      "image/png": "[encoded data removed]",
      "text/plain": [
       "<Figure size 1000x800 with 2 Axes>"
      ]
     },
     "metadata": {},
     "output_type": "display_data"
    }
   ],
   "source": [
    "# Data Analysis on correlations within the dataset before building the model\n",
    "# interesting columns were chosen for the heatmap, the ones that are hypothezised to have a possible impact \n",
    "# and could give us business insights \n",
    "numeric_columns = ['num_comments', 'num_shares', 'num_likes', 'num_loves', 'num_wows', 'num_hahas', 'num_sads', 'num_angrys']\n",
    "plt.figure(figsize=(10, 8))\n",
    "sns.heatmap(facebook_data[numeric_columns].corr(), annot=True, cmap='YlGnBu', fmt=\".2f\") #choosing only the numeric columns \n",
    "plt.title('Correlation Heatmap') #title label \n",
    "plt.show()"
   ]
  },
  {
   "cell_type": "markdown",
   "metadata": {
    "deletable": false,
    "editable": false
   },
   "source": [
    "Lastly, to get a better insight into the interactions with the different posts was analyzed. For this reason, a correlation between all the differengt reaction (interaction) types was done. One part that stands out, is that the highest correlations are between the number of shares and comments, as well as the number of loves with comments and shares. This means that a lot of the sharing comes if the content that the creator is posting is very well received (the highest, best form of reaction- love) and then leading to more viewership for the creator as it got shared by the initial user. This generates amazing creator viewership growth and needs to be further explored on how these creator can release content that gets these reactions for their posts consistently. "
   ]
  },
  {
   "cell_type": "markdown",
   "metadata": {
    "deletable": false,
    "editable": false
   },
   "source": [
    "# Reactions, Engagements and Engagement on Specific Reactions"
   ]
  },
  {
   "cell_type": "markdown",
   "metadata": {
    "deletable": false,
    "editable": false
   },
   "source": [
    "**Total Engagement for videos compared to other media types**"
   ]
  },
  {
   "cell_type": "code",
   "execution_count": 5,
   "metadata": {
    "deletable": false,
    "editable": false,
    "id": "LmD2mHegP_X9"
   },
   "outputs": [
    {
     "name": "stdout",
     "output_type": "stream",
     "text": [
      "Total Engagement for Videos: 212992\n",
      "Total Engagement for content that is not video: 332020\n"
     ]
    }
   ],
   "source": [
    "# Filter the dataset to only use the video posts\n",
    "videos_data = facebook_data[facebook_data['status_type'] == 'video'] \n",
    "\n",
    "# Filter the dataset to only non video posts\n",
    "other_content_data = facebook_data[facebook_data['status_type'] != 'video']\n",
    "\n",
    "# Summing up total engagement from reactions for videos\n",
    "videos_total_engagement = videos_data[['num_likes', 'num_loves', 'num_wows', 'num_hahas', 'num_sads', 'num_angrys']].sum().sum()\n",
    "\n",
    "# summing up total engagement for all other media\n",
    "other_content_total_engagement = other_content_data[['num_likes', 'num_loves', 'num_wows', 'num_hahas', 'num_sads', 'num_angrys']].sum().sum()\n",
    "\n",
    "# Printing both total Sums\n",
    "print(\"Total Engagement for Videos:\", videos_total_engagement)\n",
    "print(\"Total Engagement for content that is not video:\", other_content_total_engagement)"
   ]
  },
  {
   "cell_type": "markdown",
   "metadata": {
    "id": "hIrFNXCkQ2wB"
   },
   "source": [
    "Videos typically outperform other types of content in terms of overall interaction. Compared to 332,020 reactions for other sorts of media, videos have gotten 212,992 reactions overall. Considering that video content is almost 40% of the entire media shared, and all the other types are combined in the other content group, the video group is outperforming the others. "
   ]
  },
  {
   "cell_type": "markdown",
   "metadata": {},
   "source": [
    "**Avergage Engagement for Specific Reactions on videos and other media types**"
   ]
  },
  {
   "cell_type": "code",
   "execution_count": 6,
   "metadata": {
    "deletable": false,
    "editable": false,
    "id": "tVvzjZbaQkjQ"
   },
   "outputs": [
    {
     "name": "stdout",
     "output_type": "stream",
     "text": [
      "\n",
      "Average Engagement on Specific Reactions for Videos:\n",
      "num_likes     232.989717\n",
      "num_loves      35.633676\n",
      "num_wows        2.935733\n",
      "num_hahas       1.519280\n",
      "num_sads        0.442159\n",
      "num_angrys      0.248072\n",
      "dtype: float64\n",
      "\n",
      "Average Engagement on Specific Reactions for content that is not video::\n",
      "num_likes     216.006583\n",
      "num_loves       1.477288\n",
      "num_wows        0.749835\n",
      "num_hahas       0.167215\n",
      "num_sads        0.152732\n",
      "num_angrys      0.024358\n",
      "dtype: float64\n"
     ]
    }
   ],
   "source": [
    "# Making average engagement for all videos by reaction\n",
    "videos_reaction_avg = videos_data[['num_likes', 'num_loves', 'num_wows', 'num_hahas', 'num_sads', 'num_angrys']].mean()\n",
    "\n",
    "# average for engagemengt for non video posts by reaction\n",
    "other_content_reaction_avg = other_content_data[['num_likes', 'num_loves', 'num_wows', 'num_hahas', 'num_sads', 'num_angrys']].mean()\n",
    "\n",
    "#printing the averages\n",
    "print(\"\\nAverage Engagement on Specific Reactions for Videos:\")\n",
    "print(videos_reaction_avg)  # Printing the average reactions for videos\n",
    "print(\"\\nAverage Engagement on Specific Reactions for content that is not video::\")\n",
    "print(other_content_reaction_avg)  # Printing the average reactions for other content"
   ]
  },
  {
   "cell_type": "markdown",
   "metadata": {
    "id": "h_irYhyKPOE9"
   },
   "source": [
    "Previously the total amount of engagement was considered between videos and the group of any type of other content. When we look at specific reactions, it makes the point made earlier even clearer: Videos are the most interacted with media by viewers and creators. We see through the data for the average engagement on specific reactions for videos that the specific reactions throughout the different types are significantly higher. Though interestingly, this is not the case for 'negative' reactions such as sads or angrys. For the later two, the reactions amount is higher in the other content group that is not video. The most drastic average is for the number of loves, which is at 35,63 for videos while it is only at 1.48 for the other media content. \n",
    "\n",
    "Given the wider range of responses, it seems that videos have a greater effect on viewers, eliciting more intense emotional responses and encouraging in-depth interaction with the content, especially if it is a positive reaction.\n"
   ]
  },
  {
   "cell_type": "markdown",
   "metadata": {},
   "source": [
    "# Development of principal components (PCA)"
   ]
  },
  {
   "cell_type": "markdown",
   "metadata": {},
   "source": [
    "**Scree Plot and PCA Set up**"
   ]
  },
  {
   "cell_type": "code",
   "execution_count": 7,
   "metadata": {
    "colab": {
     "base_uri": "https://localhost:8080/",
     "height": 564
    },
    "deletable": false,
    "editable": false,
    "id": "tofB8kUbREjs",
    "outputId": "266026ef-400a-4aa8-e7b8-4d85c0a1add0"
   },
   "outputs": [
    {
     "name": "stderr",
     "output_type": "stream",
     "text": [
      "/Users/alyssabrunen/anaconda3/lib/python3.11/site-packages/sklearn/utils/validation.py:767: FutureWarning: is_sparse is deprecated and will be removed in a future version. Check `isinstance(dtype, pd.SparseDtype)` instead.\n",
      "  if not hasattr(array, \"sparse\") and array.dtypes.apply(is_sparse).any():\n",
      "/Users/alyssabrunen/anaconda3/lib/python3.11/site-packages/sklearn/utils/validation.py:605: FutureWarning: is_sparse is deprecated and will be removed in a future version. Check `isinstance(dtype, pd.SparseDtype)` instead.\n",
      "  if is_sparse(pd_dtype):\n",
      "/Users/alyssabrunen/anaconda3/lib/python3.11/site-packages/sklearn/utils/validation.py:614: FutureWarning: is_sparse is deprecated and will be removed in a future version. Check `isinstance(dtype, pd.SparseDtype)` instead.\n",
      "  if is_sparse(pd_dtype) or not is_extension_array_dtype(pd_dtype):\n",
      "/Users/alyssabrunen/anaconda3/lib/python3.11/site-packages/sklearn/utils/validation.py:767: FutureWarning: is_sparse is deprecated and will be removed in a future version. Check `isinstance(dtype, pd.SparseDtype)` instead.\n",
      "  if not hasattr(array, \"sparse\") and array.dtypes.apply(is_sparse).any():\n",
      "/Users/alyssabrunen/anaconda3/lib/python3.11/site-packages/sklearn/utils/validation.py:605: FutureWarning: is_sparse is deprecated and will be removed in a future version. Check `isinstance(dtype, pd.SparseDtype)` instead.\n",
      "  if is_sparse(pd_dtype):\n",
      "/Users/alyssabrunen/anaconda3/lib/python3.11/site-packages/sklearn/utils/validation.py:614: FutureWarning: is_sparse is deprecated and will be removed in a future version. Check `isinstance(dtype, pd.SparseDtype)` instead.\n",
      "  if is_sparse(pd_dtype) or not is_extension_array_dtype(pd_dtype):\n"
     ]
    },
    {
     "data": {
      "image/png": "[encoded data removed]",
      "text/plain": [
       "<Figure size 1000x600 with 1 Axes>"
      ]
     },
     "metadata": {},
     "output_type": "display_data"
    }
   ],
   "source": [
    "# Scaling the data\n",
    "scaler = StandardScaler()\n",
    "#using the scaler on the numeric data columns\n",
    "data_numeric = facebook_data[['num_comments', 'num_shares', 'num_likes', 'num_loves', 'num_wows', 'num_hahas', 'num_sads', 'num_angrys']]\n",
    "data_scaled = scaler.fit_transform(data_numeric)\n",
    "\n",
    "# Starting the PCA stuff\n",
    "pca = PCA()\n",
    "\n",
    "# using the PCA from ^ on the scaled data\n",
    "principal_components = pca.fit_transform(data_scaled)\n",
    "\n",
    "#Setting the cutoff at 3 PCA's \n",
    "cutoff_point = 3\n",
    "\n",
    "# Making its Scree plot \n",
    "plt.figure(figsize=(10, 6))\n",
    "plt.plot(range(1, pca.n_components_ + 1), pca.explained_variance_ratio_, marker='o',color='orange' ,linestyle='-')\n",
    "plt.title(\"Scree Plot\") #title for plot\n",
    "plt.xlabel(\"Number of Components\") #x axis label\n",
    "plt.ylabel(\"Explained Variance Ratio\")\n",
    "plt.xticks(np.arange(1, pca.n_components_ + 1)) #for the number of PCA\n",
    "plt.grid(True) # adding a grid to see things better\n",
    "plt.axvline(x=cutoff_point, color='green', linestyle='--')  # vertical line for the cutoff at 3 \n",
    "plt.show()"
   ]
  },
  {
   "cell_type": "markdown",
   "metadata": {
    "id": "hWOG34M5TVKc"
   },
   "source": [
    "In the screeplot above one can see the the PCA's variance ratio which shows the proportion of the dataset's variation that each component accounts for. The green vertical line shows that the chosen amount of components is 3, which is chosen through the elbow that one can see that appears at 2 components. The reason that 3 components was chosen is through the rationale that with just one component 40% of variance in the dataset is accounted for. At 2 components however, this dipped down to roughly 14%, and at 3 components it is at 12%, followed by slightly below 10% at 4 components. 3 components seemed to be perfectly in the middle, as it would not be suitable to go further than 4 components. The components 2-8 help explain the variability of the dataset even if their ratios are low compared to component 1. Given that a dataset with 60 variables yielded 8 components via PCA, it is likely that these components account for a significant amount of the dataset's variance and help with the dimensionality reduction and interpretation of the data."
   ]
  },
  {
   "cell_type": "markdown",
   "metadata": {
    "id": "H3yoP7R3RqB0"
   },
   "source": [
    "**Factor loadings for the retained principal components**"
   ]
  },
  {
   "cell_type": "code",
   "execution_count": 8,
   "metadata": {
    "colab": {
     "base_uri": "https://localhost:8080/"
    },
    "deletable": false,
    "editable": false,
    "id": "iG8um5aQRD3r",
    "outputId": "65a1388f-ee07-4d2a-842a-7881ae8f7e2e"
   },
   "outputs": [
    {
     "name": "stdout",
     "output_type": "stream",
     "text": [
      "Factor Loadings for Retained Principal Components:\n",
      "               PC1   PC2   PC3\n",
      "num_comments  0.38  0.33 -0.04\n",
      "num_shares    0.48  0.03 -0.15\n",
      "num_likes     0.16 -0.57  0.67\n",
      "num_loves     0.50 -0.07 -0.13\n",
      "num_wows      0.30 -0.49  0.00\n",
      "num_hahas     0.35  0.06 -0.16\n",
      "num_sads      0.16  0.57  0.70\n",
      "num_angrys    0.34  0.05 -0.04\n"
     ]
    }
   ],
   "source": [
    "# Get the principal components up to the cutoff point\n",
    "pca_components = pca.components_[:cutoff_point]\n",
    "\n",
    "# Get the feature names\n",
    "feature_names = data_numeric.columns\n",
    "\n",
    "# Create a DataFrame to store the component loadings\n",
    "component_loadings = pd.DataFrame(pca_components.T,\n",
    "                                   columns=[f'PC{i}' for i in range(1, cutoff_point + 1)],  # PC1, PC2, and PC3 since we made cutoff at 3 \n",
    "                                   index=feature_names)  # Features as index\n",
    "\n",
    "# Print the component loadings rounded to 2 decimal places\n",
    "print(\"Factor Loadings for Retained Principal Components:\")\n",
    "print(component_loadings.round(2)) #round 2 for the decimal point\n"
   ]
  },
  {
   "cell_type": "markdown",
   "metadata": {
    "id": "lm1o_2asTquX"
   },
   "source": [
    "**Retained Principal Components**"
   ]
  },
  {
   "cell_type": "code",
   "execution_count": 9,
   "metadata": {
    "colab": {
     "base_uri": "https://localhost:8080/"
    },
    "deletable": false,
    "editable": false,
    "id": "av26sYaETod7",
    "outputId": "38a99ead-c7a8-42b8-ae61-85ef99b5dcbc",
    "scrolled": true
   },
   "outputs": [
    {
     "name": "stdout",
     "output_type": "stream",
     "text": [
      "\n",
      "Principal Component 1 - Content Engagement:\n",
      "----------------------------------------\n",
      "Top Positive Loadings:\n",
      "num_loves       0.497411\n",
      "num_shares      0.479823\n",
      "num_comments    0.380894\n",
      "num_hahas       0.349796\n",
      "num_angrys      0.339388\n",
      "Name: PC1, dtype: float64\n",
      "\n",
      "Top Negative Loadings:\n",
      "num_hahas     0.349796\n",
      "num_angrys    0.339388\n",
      "num_wows      0.297737\n",
      "num_likes     0.161475\n",
      "num_sads      0.158142\n",
      "Name: PC1, dtype: float64\n",
      "\n",
      "Principal Component 2 - Reaction Diversity:\n",
      "----------------------------------------\n",
      "Top Positive Loadings:\n",
      "num_sads        0.567098\n",
      "num_likes       0.565464\n",
      "num_wows        0.487166\n",
      "num_comments    0.330231\n",
      "num_loves       0.068112\n",
      "Name: PC2, dtype: float64\n",
      "\n",
      "Top Negative Loadings:\n",
      "num_comments    0.330231\n",
      "num_loves       0.068112\n",
      "num_hahas       0.060862\n",
      "num_angrys      0.054174\n",
      "num_shares      0.031460\n",
      "Name: PC2, dtype: float64\n",
      "\n",
      "Principal Component 3 - Negative Reactions:\n",
      "----------------------------------------\n",
      "Top Positive Loadings:\n",
      "num_sads      0.700209\n",
      "num_likes     0.665594\n",
      "num_hahas     0.158199\n",
      "num_shares    0.151189\n",
      "num_loves     0.125076\n",
      "Name: PC3, dtype: float64\n",
      "\n",
      "Top Negative Loadings:\n",
      "num_shares      0.151189\n",
      "num_loves       0.125076\n",
      "num_angrys      0.042835\n",
      "num_comments    0.036441\n",
      "num_wows        0.001022\n",
      "Name: PC3, dtype: float64\n"
     ]
    }
   ],
   "source": [
    "# Define component names based on what I think matters \n",
    "component_names = {\n",
    "    'PC1': 'Content Engagement',\n",
    "    'PC2': 'Reaction Diversity',\n",
    "    'PC3': 'Negative Reactions'\n",
    "}\n",
    "\n",
    "# Interpret retained principal components\n",
    "for component in range(cutoff_point):\n",
    "    print(f\"\\nPrincipal Component {component + 1} - {component_names[f'PC{component + 1}']}:\") #for the three components\n",
    "    print(\"-\"*40)\n",
    "    component_loadings_abs = abs(component_loadings[f'PC{component + 1}'])\n",
    "    sorted_loadings = component_loadings_abs.sort_values(ascending=False) \n",
    "\n",
    "    print(\"Top Positive Loadings:\") #printing for positive loading\n",
    "    print(sorted_loadings.head())\n",
    "    print(\"\\nTop Negative Loadings:\") #printing negative loading \n",
    "    print(sorted_loadings.tail())\n"
   ]
  },
  {
   "cell_type": "markdown",
   "metadata": {},
   "source": [
    "**Interpretation on Retained Principal Components**"
   ]
  },
  {
   "cell_type": "markdown",
   "metadata": {
    "id": "99StGPiaVEv4"
   },
   "source": [
    "**Principal Component 1 - Content Engagement:**\n",
    "\n",
    "This Component was chosen due to the aspect that engagement is highly important for creator content and content sharing. We saw that the more positive the engagement reaction, the more likely it is for the viewer to share the content, therefore increasing the viewership of the creator profile. This component incoorporates the aspects of the reactions, shares and comments on the content and through the loadings a few things can be seen.<br>   \n",
    "- Higher values show that the amount of engagement is higher, therefore positive values correlate with an increase level of emotional reactions. <br>\n",
    "- On the other side, a negative value shows lower like amount as well as negative leaning emotional reactions such as the sad or angry emojis. <br>\n",
    "\n",
    "\n",
    "**Principal Component 2 - Reaction Diversity:**\n",
    "\n",
    "As mentioned in the first component, the reaction means a lot to the engagement and the viewership. This component was chosen with that in mind to reflect on the diversity of these reactions, to showcase the spectrum of the emotional reactions left on posts. Earlier it was hypothesized that a positive reaction (loves, likes, etc) lead to also higher shares, while negative on the other hand do not. Similarly to the previous component we can see: <br> \n",
    "- Positive values are associated with negative emotional reactions such as sad, angry reaction emojis, as well as comments. This was chosen to be the flip side of PCA1. <br>\n",
    "- Negative reactions are associated with a higher amount of loves, shares, or laughing emojis.\n",
    "\n",
    "\n",
    "**Principal Component 3 - Negative Reactions:**\n",
    "\n",
    "The last component was chosen due to the overall hypothesis that negative emotional reactions lead to a lower amount of viewership and shares. This component looks more closely on the sad and angry emojis. What is interesting here is: <br>\n",
    "- Positive values show the increase reaction of sad, likes, laughing emojis but also shares. <br>\n",
    "- On the other side, the negative loading show the low amount of sad, comments and loving emojis. <br>\n",
    "\n",
    "What is interesting is that this means that if a post has a mixed audience response by emotional reactions drive also the content engagement. "
   ]
  },
  {
   "cell_type": "markdown",
   "metadata": {
    "id": "NOOKiLPMR5K7"
   },
   "source": [
    "**Renaming of Principal Components:**"
   ]
  },
  {
   "cell_type": "code",
   "execution_count": 10,
   "metadata": {
    "colab": {
     "base_uri": "https://localhost:8080/"
    },
    "deletable": false,
    "editable": false,
    "id": "-ZQ-d1BJop9V",
    "outputId": "de3d8bf2-36a6-4804-9ac4-3684e8084cea",
    "scrolled": true
   },
   "outputs": [
    {
     "name": "stdout",
     "output_type": "stream",
     "text": [
      "Principal Component 1 - Renamed: Content Engagement\n",
      "Principal Component 2 - Renamed: Reaction Diversity\n",
      "Principal Component 3 - Renamed: Negative Emotional Reaction\n"
     ]
    }
   ],
   "source": [
    "# Define renamed principal components chosen at last step\n",
    "renamed_components = {\n",
    "    'PC1': 'Content Engagement',\n",
    "    'PC2': 'Reaction Diversity',\n",
    "    'PC3': 'Negative Emotional Reaction'\n",
    "} # making a list, to simplify \n",
    "\n",
    "# Rename principal components\n",
    "for component in range(cutoff_point):  #for statement that includes all the components\n",
    "    original_name = f'PC{component + 1}'\n",
    "    renamed_name = renamed_components[original_name] \n",
    "    print(f\"Principal Component {component + 1} - Renamed: {renamed_name}\")  #making a print statement \n",
    "    # that shows all the components chosen\n"
   ]
  },
  {
   "cell_type": "markdown",
   "metadata": {
    "deletable": false,
    "editable": false
   },
   "source": [
    "# Segmentation with K-means Clustering"
   ]
  },
  {
   "cell_type": "markdown",
   "metadata": {
    "deletable": false,
    "editable": false,
    "id": "QvDZ_A73htBK"
   },
   "source": [
    "**Ideal Number of Clusters**"
   ]
  },
  {
   "cell_type": "code",
   "execution_count": 11,
   "metadata": {
    "colab": {
     "base_uri": "https://localhost:8080/",
     "height": 472
    },
    "deletable": false,
    "editable": false,
    "id": "AuEQn0Z3ov6Y",
    "outputId": "dc7d84dd-3738-41f1-9a5b-ab097b404b79"
   },
   "outputs": [
    {
     "data": {
      "image/png": "[encoded data removed]",
      "text/plain": [
       "<Figure size 640x480 with 1 Axes>"
      ]
     },
     "metadata": {},
     "output_type": "display_data"
    }
   ],
   "source": [
    "# Calculate inertia for different numbers of clusters\n",
    "inertia = []\n",
    "cluster_range = range(1, 11)  # Testing cluster numbers from 1 to 10\n",
    "for k in cluster_range:\n",
    "    # Setting the Kmeans for the clusters and setting the n_init to 10 for max 10 clusters to show \n",
    "    kmeans = KMeans(n_clusters=k, random_state=42, n_init=10)\n",
    "\n",
    "    # Fitting the Kmeans for the PCs \n",
    "    kmeans.fit(principal_components)\n",
    "\n",
    "    # Adding the inertia \n",
    "    inertia.append(kmeans.inertia_) \n",
    "\n",
    "# elbow plot\n",
    "plt.plot(cluster_range, inertia, marker='o', color='g')\n",
    "plt.title('Elbow Method for Optimal Number of Clusters') #title for plot\n",
    "plt.xlabel('Number of Clusters') #x axis label\n",
    "plt.ylabel('Inertia')\n",
    "plt.xticks(cluster_range)  # Show integer ticks for cluster numbers\n",
    "plt.grid(True)\n",
    "plt.show()"
   ]
  },
  {
   "cell_type": "markdown",
   "metadata": {
    "deletable": false,
    "editable": false,
    "id": "8DrpHe0Tkt6n"
   },
   "source": [
    "A way to find an ideal number of clusters to use is the elbow method, where we plot the variance by the numbers of clusters. The ideal number of clusters is where the rate of decrease in variance is significantly slowing down. This can be seen with using the elbow, where this rate of decrease is slowing down. In this case, the number of clusters that may be the most ideal is 4. The reason why this was chosen also was the consideration that at 1 cluster we are at an inertia of roughly 18000, at 2 clusters at 13000, at 3 clusters at 1100 and at 4 clusters at almost 10000. Which means that this rate of decrease is slowing down at 4 clusters the most."
   ]
  },
  {
   "cell_type": "markdown",
   "metadata": {
    "deletable": false,
    "editable": false,
    "id": "-hlJJ6bnh9Y5"
   },
   "source": [
    "**Fitting KMeans with 4 Clusters**"
   ]
  },
  {
   "cell_type": "code",
   "execution_count": 12,
   "metadata": {
    "colab": {
     "base_uri": "https://localhost:8080/",
     "height": 130
    },
    "deletable": false,
    "editable": false,
    "id": "-vKvt814h7WE",
    "outputId": "9299009a-c175-4269-9f10-75d49c408f4b"
   },
   "outputs": [
    {
     "name": "stderr",
     "output_type": "stream",
     "text": [
      "/Users/alyssabrunen/anaconda3/lib/python3.11/site-packages/sklearn/cluster/_kmeans.py:870: FutureWarning: The default value of `n_init` will change from 10 to 'auto' in 1.4. Set the value of `n_init` explicitly to suppress the warning\n",
      "  warnings.warn(\n"
     ]
    },
    {
     "data": {
      "text/html": [
       "<style>#sk-container-id-1 {color: black;background-color: white;}#sk-container-id-1 pre{padding: 0;}#sk-container-id-1 div.sk-toggleable {background-color: white;}#sk-container-id-1 label.sk-toggleable__label {cursor: pointer;display: block;width: 100%;margin-bottom: 0;padding: 0.3em;box-sizing: border-box;text-align: center;}#sk-container-id-1 label.sk-toggleable__label-arrow:before {content: \"▸\";float: left;margin-right: 0.25em;color: #696969;}#sk-container-id-1 label.sk-toggleable__label-arrow:hover:before {color: black;}#sk-container-id-1 div.sk-estimator:hover label.sk-toggleable__label-arrow:before {color: black;}#sk-container-id-1 div.sk-toggleable__content {max-height: 0;max-width: 0;overflow: hidden;text-align: left;background-color: #f0f8ff;}#sk-container-id-1 div.sk-toggleable__content pre {margin: 0.2em;color: black;border-radius: 0.25em;background-color: #f0f8ff;}#sk-container-id-1 input.sk-toggleable__control:checked~div.sk-toggleable__content {max-height: 200px;max-width: 100%;overflow: auto;}#sk-container-id-1 input.sk-toggleable__control:checked~label.sk-toggleable__label-arrow:before {content: \"▾\";}#sk-container-id-1 div.sk-estimator input.sk-toggleable__control:checked~label.sk-toggleable__label {background-color: #d4ebff;}#sk-container-id-1 div.sk-label input.sk-toggleable__control:checked~label.sk-toggleable__label {background-color: #d4ebff;}#sk-container-id-1 input.sk-hidden--visually {border: 0;clip: rect(1px 1px 1px 1px);clip: rect(1px, 1px, 1px, 1px);height: 1px;margin: -1px;overflow: hidden;padding: 0;position: absolute;width: 1px;}#sk-container-id-1 div.sk-estimator {font-family: monospace;background-color: #f0f8ff;border: 1px dotted black;border-radius: 0.25em;box-sizing: border-box;margin-bottom: 0.5em;}#sk-container-id-1 div.sk-estimator:hover {background-color: #d4ebff;}#sk-container-id-1 div.sk-parallel-item::after {content: \"\";width: 100%;border-bottom: 1px solid gray;flex-grow: 1;}#sk-container-id-1 div.sk-label:hover label.sk-toggleable__label {background-color: #d4ebff;}#sk-container-id-1 div.sk-serial::before {content: \"\";position: absolute;border-left: 1px solid gray;box-sizing: border-box;top: 0;bottom: 0;left: 50%;z-index: 0;}#sk-container-id-1 div.sk-serial {display: flex;flex-direction: column;align-items: center;background-color: white;padding-right: 0.2em;padding-left: 0.2em;position: relative;}#sk-container-id-1 div.sk-item {position: relative;z-index: 1;}#sk-container-id-1 div.sk-parallel {display: flex;align-items: stretch;justify-content: center;background-color: white;position: relative;}#sk-container-id-1 div.sk-item::before, #sk-container-id-1 div.sk-parallel-item::before {content: \"\";position: absolute;border-left: 1px solid gray;box-sizing: border-box;top: 0;bottom: 0;left: 50%;z-index: -1;}#sk-container-id-1 div.sk-parallel-item {display: flex;flex-direction: column;z-index: 1;position: relative;background-color: white;}#sk-container-id-1 div.sk-parallel-item:first-child::after {align-self: flex-end;width: 50%;}#sk-container-id-1 div.sk-parallel-item:last-child::after {align-self: flex-start;width: 50%;}#sk-container-id-1 div.sk-parallel-item:only-child::after {width: 0;}#sk-container-id-1 div.sk-dashed-wrapped {border: 1px dashed gray;margin: 0 0.4em 0.5em 0.4em;box-sizing: border-box;padding-bottom: 0.4em;background-color: white;}#sk-container-id-1 div.sk-label label {font-family: monospace;font-weight: bold;display: inline-block;line-height: 1.2em;}#sk-container-id-1 div.sk-label-container {text-align: center;}#sk-container-id-1 div.sk-container {/* jupyter's `normalize.less` sets `[hidden] { display: none; }` but bootstrap.min.css set `[hidden] { display: none !important; }` so we also need the `!important` here to be able to override the default hidden behavior on the sphinx rendered scikit-learn.org. See: https://github.com/scikit-learn/scikit-learn/issues/21755 */display: inline-block !important;position: relative;}#sk-container-id-1 div.sk-text-repr-fallback {display: none;}</style><div id=\"sk-container-id-1\" class=\"sk-top-container\"><div class=\"sk-text-repr-fallback\"><pre>KMeans(n_clusters=4, random_state=42)</pre><b>In a Jupyter environment, please rerun this cell to show the HTML representation or trust the notebook. <br />On GitHub, the HTML representation is unable to render, please try loading this page with nbviewer.org.</b></div><div class=\"sk-container\" hidden><div class=\"sk-item\"><div class=\"sk-estimator sk-toggleable\"><input class=\"sk-toggleable__control sk-hidden--visually\" id=\"sk-estimator-id-1\" type=\"checkbox\" checked><label for=\"sk-estimator-id-1\" class=\"sk-toggleable__label sk-toggleable__label-arrow\">KMeans</label><div class=\"sk-toggleable__content\"><pre>KMeans(n_clusters=4, random_state=42)</pre></div></div></div></div></div>"
      ],
      "text/plain": [
       "KMeans(n_clusters=4, random_state=42)"
      ]
     },
     "execution_count": 12,
     "metadata": {},
     "output_type": "execute_result"
    }
   ],
   "source": [
    "# Fit KMeans with the chosen number of clusters\n",
    "kmeans = KMeans(n_clusters=4, random_state=42)  # Kmeans for the 4 chosen clusters \n",
    "kmeans.fit(principal_components)  # setting Kmeans on the PCs "
   ]
  },
  {
   "cell_type": "markdown",
   "metadata": {
    "deletable": false,
    "editable": false,
    "id": "7boaNYyMh9uT"
   },
   "source": [
    "**Cluster Centroids**"
   ]
  },
  {
   "cell_type": "code",
   "execution_count": 13,
   "metadata": {
    "deletable": false,
    "editable": false,
    "id": "95LKVJW1h7Ac"
   },
   "outputs": [
    {
     "name": "stdout",
     "output_type": "stream",
     "text": [
      "\n",
      "Segment 1 - Cluster Centroid:\n",
      "[-0.44843362  0.07745836 -0.15767602  0.07878689  0.07173528  0.03699824\n",
      " -0.00522821  0.004113  ]\n",
      "----------------------------------------\n",
      "Analysis\n",
      "What a 'normal' post in this segment would look like:\n",
      "status_id                          21\n",
      "status_type                     photo\n",
      "time_published    2018-02-09 01:48:00\n",
      "num_comments                       21\n",
      "num_shares                         13\n",
      "num_likes                          95\n",
      "num_loves                           5\n",
      "num_wows                            0\n",
      "num_hahas                           0\n",
      "num_sads                            0\n",
      "num_angrys                          0\n",
      "Name: 20, dtype: object\n",
      "\n",
      "Segment 2 - Cluster Centroid:\n",
      "[ 4.15048675  1.40015192  0.13183667 -0.33914569 -0.46049761 -0.61430825\n",
      "  0.0367267  -0.03628788]\n",
      "----------------------------------------\n",
      "Analysis\n",
      "What a 'normal' post in this segment would look like:\n",
      "status_id                        1843\n",
      "status_type                     video\n",
      "time_published    2018-01-04 07:07:00\n",
      "num_comments                     1410\n",
      "num_shares                        261\n",
      "num_likes                         165\n",
      "num_loves                          79\n",
      "num_wows                            3\n",
      "num_hahas                           2\n",
      "num_sads                            3\n",
      "num_angrys                          1\n",
      "Name: 1842, dtype: object\n",
      "\n",
      "Segment 3 - Cluster Centroid:\n",
      "[12.70213195 -4.06260683 -0.94755938  2.45613862  2.3676582   1.71772424\n",
      " -0.07268991  0.18460336]\n",
      "----------------------------------------\n",
      "Analysis\n",
      "What a 'normal' post in this segment would look like:\n",
      "status_id                        1515\n",
      "status_type                     video\n",
      "time_published    2018-04-06 07:48:00\n",
      "num_comments                     1726\n",
      "num_shares                        560\n",
      "num_likes                        1224\n",
      "num_loves                         364\n",
      "num_wows                          108\n",
      "num_hahas                          11\n",
      "num_sads                            2\n",
      "num_angrys                          3\n",
      "Name: 1514, dtype: object\n",
      "\n",
      "Segment 4 - Cluster Centroid:\n",
      "[ 0.13124772 -2.0676133   2.2222073  -1.08276607 -0.83897242 -0.09100299\n",
      "  0.04415626 -0.04400096]\n",
      "----------------------------------------\n",
      "Analysis\n",
      "What a 'normal' post in this segment would look like:\n",
      "status_id                         448\n",
      "status_type                      text\n",
      "time_published    2015-01-24 23:01:00\n",
      "num_comments                        6\n",
      "num_shares                          0\n",
      "num_likes                        1667\n",
      "num_loves                           0\n",
      "num_wows                            0\n",
      "num_hahas                           0\n",
      "num_sads                            0\n",
      "num_angrys                          0\n",
      "Name: 447, dtype: object\n"
     ]
    }
   ],
   "source": [
    "cluster_centroids = kmeans.cluster_centers_ #setting up the centroids\n",
    "\n",
    "def find_closest_posts(cluster_centroid):\n",
    "    # Calculate distances from post to the centroid\n",
    "    distances = np.linalg.norm(principal_components - cluster_centroid, axis=1)\n",
    "    #index of closest post\n",
    "    closest_index = np.argmin(distances)\n",
    "    #corresponding post\n",
    "    return facebook_data.iloc[closest_index]\n",
    "\n",
    "for i, centroid in enumerate(cluster_centroids):\n",
    "    print(f\"\\nSegment {i+1} - Cluster Centroid:\")\n",
    "    print(centroid) #printing the centroid\n",
    "    print(\"-\" * 40)\n",
    "    print(\"Analysis\") # seeing the analysis for below \n",
    "    print(\"What a 'normal' post in this segment would look like:\")\n",
    "    example_post = find_closest_posts(centroid) #using an example post that is closest \n",
    "    # to the centroid bc it will best represent the entire cluster \n",
    "    print(example_post) "
   ]
  },
  {
   "cell_type": "markdown",
   "metadata": {
    "deletable": false,
    "editable": false,
    "id": "biNnesVhjxyF"
   },
   "source": [
    "**Interpretation of Segments**\n",
    "<br><br><br>\n",
    "**Segment 1 - High Engagement, Low Reactions**\n",
    "<br>\n",
    "This segment has comparatively low values for each of the main components and moderate engagement with minimal variability in reactions. This category's posts have a fair amount of interaction, but not many different kinds of responses.An example of a typical post in this category would be a text-only post from December 24, 2017, which received a respectable amount of likes and comments but no other kind of response which is why it stood out quite drastically.\n",
    "<br><br><br>\n",
    "**Segment 2 - Moderate Engagement, Diverse Reactions**\n",
    "<br>\n",
    "The posts within this particular segment exhibit a moderate level of engagement along with a wide range of emotions. The first primary component exhibits high values, while the second and third components display moderate values. The audience responds to them in a variety of ways, such as with likes, loves, wows, hahas, sadness, and rage. A video that was posted on November 19, 2017, for example, may fall into this category as it has received a lot of shares, comments, and all kinds of responses.\n",
    "<br><br><br>\n",
    "**Segment 3 - Low Engagement, High Negative Reactions**\n",
    "<br>\n",
    "Low involvement and a large number of negative reactions define this segment; low values in the first component and high negative values in the second and third components show this. Posts in this category mostly generate unfavorable responses from the audience and get very little engagement. A text-only post from January 24, 2015, with few comments and no favorable replies but a sizable number of negative ones, may be considered a typical post in this category.\n",
    "<br><br><br>\n",
    "**Segment 4 - High Engagement, Moderate Reactions**\n",
    "<br>\n",
    "Very high values in the first component and low values in the second and third components show that posts in this section have high levels of interaction and a balanced distribution of moderate replies. They generate strong engagement from the audience along with a range of lower reaction.  A video that was posted on March 16, 2018, for example, may fall into this category because it attracted a lot of comments, shares, and mild reactions.\n",
    "<br><br>"
   ]
  },
  {
   "cell_type": "markdown",
   "metadata": {
    "id": "JjSJccOaiM8W"
   },
   "source": [
    "**Renaming Each Segment**"
   ]
  },
  {
   "cell_type": "code",
   "execution_count": 14,
   "metadata": {
    "deletable": false,
    "editable": false,
    "id": "s2ivL9gwiFOw"
   },
   "outputs": [],
   "source": [
    "segment_names = {\n",
    "    0: 'High Engagement, Low Reactions',\n",
    "    1: 'Moderate Engagement, Diverse Reactions',\n",
    "    2: 'Low Engagement, High Negative Reactions',\n",
    "    3: 'High Engagement, Moderate Reactions'\n",
    "}\n",
    "#making this a list too "
   ]
  },
  {
   "cell_type": "markdown",
   "metadata": {
    "id": "cKir7K7NiNef"
   },
   "source": [
    "**Analalyis of Status Types for Segments**"
   ]
  },
  {
   "cell_type": "code",
   "execution_count": 15,
   "metadata": {
    "colab": {
     "base_uri": "https://localhost:8080/"
    },
    "deletable": false,
    "editable": false,
    "id": "we4QkoKiIwZA",
    "outputId": "b6e5b51b-7689-4ae5-ab78-fd7979cc7cf0"
   },
   "outputs": [
    {
     "name": "stdout",
     "output_type": "stream",
     "text": [
      "\n",
      "Segment 1 - High Engagement, Low Reactions:\n",
      "Media Type Distribution:\n",
      "status_type\n",
      "photo    0.652064\n",
      "video    0.296576\n",
      "text     0.051360\n",
      "Name: proportion, dtype: float64\n",
      "----------------------------------------\n",
      "\n",
      "Segment 2 - Moderate Engagement, Diverse Reactions:\n",
      "Media Type Distribution:\n",
      "status_type\n",
      "video    0.953947\n",
      "photo    0.039474\n",
      "text     0.006579\n",
      "Name: proportion, dtype: float64\n",
      "----------------------------------------\n",
      "\n",
      "Segment 3 - Low Engagement, High Negative Reactions:\n",
      "Media Type Distribution:\n",
      "status_type\n",
      "video    1.0\n",
      "Name: proportion, dtype: float64\n",
      "----------------------------------------\n",
      "\n",
      "Segment 4 - High Engagement, Moderate Reactions:\n",
      "Media Type Distribution:\n",
      "status_type\n",
      "photo    0.600000\n",
      "text     0.221429\n",
      "video    0.178571\n",
      "Name: proportion, dtype: float64\n",
      "----------------------------------------\n"
     ]
    }
   ],
   "source": [
    "for i, centroid in enumerate(cluster_centroids):\n",
    "    # Showing which segment its looking at \n",
    "    print(f\"\\nSegment {i+1} - {segment_names[i]}:\") #going segment through segment \n",
    "\n",
    "    # get the data for that segment \n",
    "    segment_indices = np.where(kmeans.labels_ == i)[0]\n",
    "    segment_data = facebook_data.iloc[segment_indices]\n",
    "\n",
    "    # Get the percent of what media types there are in teh segment \n",
    "    status_type_counts = segment_data['status_type'].value_counts(normalize=True)\n",
    "\n",
    "    # print the media type distribution\n",
    "    print(\"Media Type Distribution:\")\n",
    "    print(status_type_counts)\n",
    "    print(\"-\" * 40)"
   ]
  },
  {
   "cell_type": "markdown",
   "metadata": {
    "deletable": false,
    "editable": false,
    "id": "ARSf7KnijkvJ"
   },
   "source": [
    "**Analysis Interpretation in Regards to video content**\n",
    "<br><br><br>\n",
    "**Segment 1 - High Engagement, Low Reactions**\n",
    "<br><br>\n",
    "In this segment, photographs make up the majority of the material (66% of the postings), with videos accounting for around 29% of the content. Videos make up a smaller percentage of the content, but they are still quite present, indicating that they play a part in the high level of engagement that has been recorded. This suggests that, even if they might not be the main form of material, videos are still very important for increasing engagement when combined with other formats.\n",
    "<br><br><br>\n",
    "**Segment 2 - Moderate Engagement, Diverse Reactions**\n",
    "<br><br>\n",
    "With almost 93% of the content in this segment being videos, they lead over all other content. Videos are highly common in the segment and have a large impact on engagement, which is consistent with the segment's slightly lower levels of viewer engagement. Videos continue to be the leading source of interaction, even with the addition of new status kinds like photographs and text-only postings, which signals a more varied content strategy.\n",
    "<br><br><br>\n",
    "**Segment 3 - Low Engagement, High Negative Reactions**\n",
    "<br><br>\n",
    "Even though there are the fewest videos (around 17%) of all the segments, they are nonetheless rather obvious.  The high number of text-only postings (23%) and photographs (61%) in this segment, however, indicates that videos might not have the same impact on the audience. The comparatively large percentage of negative responses in this section can suggest that the video content approach needs to be improved in order to better suit audience preferences and lessen negative emotion.\n",
    "<br><br><br>\n",
    "**Segment 4 - High Engagement, Moderate Reactions**\n",
    "<br><br>This segment is made up entirely of videos, with no other material. The lack of alternative status formats emphasizes a targeted content strategy with videos. Videos have very high levels of engagement despite the lack of variety in material types, indicating that they are successful at drawing viewers in and encouraging engagement.\n",
    "<br><br><br>"
   ]
  },
  {
   "cell_type": "markdown",
   "metadata": {
    "deletable": false,
    "editable": false
   },
   "source": [
    "#  Logistic Regression Models"
   ]
  },
  {
   "cell_type": "markdown",
   "metadata": {
    "deletable": false,
    "editable": false,
    "id": "pY_Q70ZxlgrO"
   },
   "source": [
    "**Model 1- Original X-Features**"
   ]
  },
  {
   "cell_type": "code",
   "execution_count": 16,
   "metadata": {
    "colab": {
     "base_uri": "https://localhost:8080/"
    },
    "deletable": false,
    "editable": false,
    "id": "UgCstABMlflr",
    "outputId": "f649cf48-cdcc-4730-9a08-4251b5991767"
   },
   "outputs": [
    {
     "name": "stdout",
     "output_type": "stream",
     "text": [
      "Model 1 Accuracy: 0.7891304347826087\n"
     ]
    },
    {
     "name": "stderr",
     "output_type": "stream",
     "text": [
      "/Users/alyssabrunen/anaconda3/lib/python3.11/site-packages/sklearn/utils/validation.py:767: FutureWarning: is_sparse is deprecated and will be removed in a future version. Check `isinstance(dtype, pd.SparseDtype)` instead.\n",
      "  if not hasattr(array, \"sparse\") and array.dtypes.apply(is_sparse).any():\n",
      "/Users/alyssabrunen/anaconda3/lib/python3.11/site-packages/sklearn/utils/validation.py:605: FutureWarning: is_sparse is deprecated and will be removed in a future version. Check `isinstance(dtype, pd.SparseDtype)` instead.\n",
      "  if is_sparse(pd_dtype):\n",
      "/Users/alyssabrunen/anaconda3/lib/python3.11/site-packages/sklearn/utils/validation.py:614: FutureWarning: is_sparse is deprecated and will be removed in a future version. Check `isinstance(dtype, pd.SparseDtype)` instead.\n",
      "  if is_sparse(pd_dtype) or not is_extension_array_dtype(pd_dtype):\n",
      "/Users/alyssabrunen/anaconda3/lib/python3.11/site-packages/sklearn/utils/validation.py:605: FutureWarning: is_sparse is deprecated and will be removed in a future version. Check `isinstance(dtype, pd.SparseDtype)` instead.\n",
      "  if is_sparse(pd_dtype):\n",
      "/Users/alyssabrunen/anaconda3/lib/python3.11/site-packages/sklearn/utils/validation.py:614: FutureWarning: is_sparse is deprecated and will be removed in a future version. Check `isinstance(dtype, pd.SparseDtype)` instead.\n",
      "  if is_sparse(pd_dtype) or not is_extension_array_dtype(pd_dtype):\n",
      "/Users/alyssabrunen/anaconda3/lib/python3.11/site-packages/sklearn/utils/validation.py:767: FutureWarning: is_sparse is deprecated and will be removed in a future version. Check `isinstance(dtype, pd.SparseDtype)` instead.\n",
      "  if not hasattr(array, \"sparse\") and array.dtypes.apply(is_sparse).any():\n",
      "/Users/alyssabrunen/anaconda3/lib/python3.11/site-packages/sklearn/utils/validation.py:605: FutureWarning: is_sparse is deprecated and will be removed in a future version. Check `isinstance(dtype, pd.SparseDtype)` instead.\n",
      "  if is_sparse(pd_dtype):\n",
      "/Users/alyssabrunen/anaconda3/lib/python3.11/site-packages/sklearn/utils/validation.py:614: FutureWarning: is_sparse is deprecated and will be removed in a future version. Check `isinstance(dtype, pd.SparseDtype)` instead.\n",
      "  if is_sparse(pd_dtype) or not is_extension_array_dtype(pd_dtype):\n",
      "/Users/alyssabrunen/anaconda3/lib/python3.11/site-packages/sklearn/utils/validation.py:605: FutureWarning: is_sparse is deprecated and will be removed in a future version. Check `isinstance(dtype, pd.SparseDtype)` instead.\n",
      "  if is_sparse(pd_dtype):\n",
      "/Users/alyssabrunen/anaconda3/lib/python3.11/site-packages/sklearn/utils/validation.py:614: FutureWarning: is_sparse is deprecated and will be removed in a future version. Check `isinstance(dtype, pd.SparseDtype)` instead.\n",
      "  if is_sparse(pd_dtype) or not is_extension_array_dtype(pd_dtype):\n",
      "/Users/alyssabrunen/anaconda3/lib/python3.11/site-packages/sklearn/utils/validation.py:605: FutureWarning: is_sparse is deprecated and will be removed in a future version. Check `isinstance(dtype, pd.SparseDtype)` instead.\n",
      "  if is_sparse(pd_dtype):\n",
      "/Users/alyssabrunen/anaconda3/lib/python3.11/site-packages/sklearn/utils/validation.py:614: FutureWarning: is_sparse is deprecated and will be removed in a future version. Check `isinstance(dtype, pd.SparseDtype)` instead.\n",
      "  if is_sparse(pd_dtype) or not is_extension_array_dtype(pd_dtype):\n",
      "/Users/alyssabrunen/anaconda3/lib/python3.11/site-packages/sklearn/utils/validation.py:605: FutureWarning: is_sparse is deprecated and will be removed in a future version. Check `isinstance(dtype, pd.SparseDtype)` instead.\n",
      "  if is_sparse(pd_dtype):\n",
      "/Users/alyssabrunen/anaconda3/lib/python3.11/site-packages/sklearn/utils/validation.py:614: FutureWarning: is_sparse is deprecated and will be removed in a future version. Check `isinstance(dtype, pd.SparseDtype)` instead.\n",
      "  if is_sparse(pd_dtype) or not is_extension_array_dtype(pd_dtype):\n"
     ]
    }
   ],
   "source": [
    "# setting X and y for Model 1\n",
    "X_model1 = facebook_data.drop(columns=['status_type', 'time_published'])\n",
    "y_model1 = (facebook_data['status_type'] == 'video').astype(int)\n",
    "\n",
    "# making training and testing sets\n",
    "X_train1, X_test1, y_train1, y_test1 = train_test_split(X_model1, y_model1, test_size=0.2, random_state=42)\n",
    "\n",
    "# Fit logistic regression model\n",
    "log_reg_model1 = LogisticRegression(max_iter=1000)\n",
    "log_reg_model1.fit(X_train1, y_train1)\n",
    "\n",
    "# Predict and show the accuracy\n",
    "y_pred1 = log_reg_model1.predict(X_test1)\n",
    "accuracy_model1 = accuracy_score(y_test1, y_pred1)\n",
    "print(\"Model 1 Accuracy:\", accuracy_model1)\n"
   ]
  },
  {
   "cell_type": "markdown",
   "metadata": {
    "deletable": false,
    "editable": false,
    "id": "M_ci5haDlfWu"
   },
   "source": [
    "**Model 2- Retained Principal Components**"
   ]
  },
  {
   "cell_type": "code",
   "execution_count": 17,
   "metadata": {
    "colab": {
     "base_uri": "https://localhost:8080/"
    },
    "deletable": false,
    "editable": false,
    "id": "-UBi3Gh1lfIC",
    "outputId": "1a502128-3504-4d96-88e9-fb0f4282de3d"
   },
   "outputs": [
    {
     "name": "stdout",
     "output_type": "stream",
     "text": [
      "Model 2 Accuracy: 0.7869565217391304\n"
     ]
    },
    {
     "name": "stderr",
     "output_type": "stream",
     "text": [
      "/Users/alyssabrunen/anaconda3/lib/python3.11/site-packages/sklearn/utils/validation.py:605: FutureWarning: is_sparse is deprecated and will be removed in a future version. Check `isinstance(dtype, pd.SparseDtype)` instead.\n",
      "  if is_sparse(pd_dtype):\n",
      "/Users/alyssabrunen/anaconda3/lib/python3.11/site-packages/sklearn/utils/validation.py:614: FutureWarning: is_sparse is deprecated and will be removed in a future version. Check `isinstance(dtype, pd.SparseDtype)` instead.\n",
      "  if is_sparse(pd_dtype) or not is_extension_array_dtype(pd_dtype):\n",
      "/Users/alyssabrunen/anaconda3/lib/python3.11/site-packages/sklearn/utils/validation.py:605: FutureWarning: is_sparse is deprecated and will be removed in a future version. Check `isinstance(dtype, pd.SparseDtype)` instead.\n",
      "  if is_sparse(pd_dtype):\n",
      "/Users/alyssabrunen/anaconda3/lib/python3.11/site-packages/sklearn/utils/validation.py:614: FutureWarning: is_sparse is deprecated and will be removed in a future version. Check `isinstance(dtype, pd.SparseDtype)` instead.\n",
      "  if is_sparse(pd_dtype) or not is_extension_array_dtype(pd_dtype):\n",
      "/Users/alyssabrunen/anaconda3/lib/python3.11/site-packages/sklearn/utils/validation.py:605: FutureWarning: is_sparse is deprecated and will be removed in a future version. Check `isinstance(dtype, pd.SparseDtype)` instead.\n",
      "  if is_sparse(pd_dtype):\n",
      "/Users/alyssabrunen/anaconda3/lib/python3.11/site-packages/sklearn/utils/validation.py:614: FutureWarning: is_sparse is deprecated and will be removed in a future version. Check `isinstance(dtype, pd.SparseDtype)` instead.\n",
      "  if is_sparse(pd_dtype) or not is_extension_array_dtype(pd_dtype):\n",
      "/Users/alyssabrunen/anaconda3/lib/python3.11/site-packages/sklearn/utils/validation.py:605: FutureWarning: is_sparse is deprecated and will be removed in a future version. Check `isinstance(dtype, pd.SparseDtype)` instead.\n",
      "  if is_sparse(pd_dtype):\n",
      "/Users/alyssabrunen/anaconda3/lib/python3.11/site-packages/sklearn/utils/validation.py:614: FutureWarning: is_sparse is deprecated and will be removed in a future version. Check `isinstance(dtype, pd.SparseDtype)` instead.\n",
      "  if is_sparse(pd_dtype) or not is_extension_array_dtype(pd_dtype):\n"
     ]
    }
   ],
   "source": [
    "# X and y for Model 2\n",
    "X_model2 = principal_components\n",
    "y_model2 = (facebook_data['status_type'] == 'video').astype(int)\n",
    "\n",
    "# making training and testing sets\n",
    "X_train2, X_test2, y_train2, y_test2 = train_test_split(X_model2, y_model2, test_size=0.2, random_state=42)\n",
    "\n",
    "# Fit logistic regression model\n",
    "log_reg_model2 = LogisticRegression(max_iter=1000)\n",
    "log_reg_model2.fit(X_train2, y_train2)\n",
    "\n",
    "# Predict and see accuracy\n",
    "y_pred2 = log_reg_model2.predict(X_test2)\n",
    "accuracy_model2 = accuracy_score(y_test2, y_pred2)\n",
    "print(\"Model 2 Accuracy:\", accuracy_model2)\n"
   ]
  },
  {
   "cell_type": "markdown",
   "metadata": {
    "deletable": false,
    "editable": false,
    "id": "Es028OJOle2z"
   },
   "source": [
    "**Model 3- Retained Clusters**"
   ]
  },
  {
   "cell_type": "code",
   "execution_count": 18,
   "metadata": {
    "colab": {
     "base_uri": "https://localhost:8080/"
    },
    "deletable": false,
    "editable": false,
    "id": "FnxvIMZLo9PO",
    "outputId": "e8549099-1402-44fe-d465-21448870f31c",
    "scrolled": true
   },
   "outputs": [
    {
     "name": "stdout",
     "output_type": "stream",
     "text": [
      "Model 3 Accuracy: 0.7043478260869566\n"
     ]
    },
    {
     "name": "stderr",
     "output_type": "stream",
     "text": [
      "/Users/alyssabrunen/anaconda3/lib/python3.11/site-packages/sklearn/utils/validation.py:767: FutureWarning: is_sparse is deprecated and will be removed in a future version. Check `isinstance(dtype, pd.SparseDtype)` instead.\n",
      "  if not hasattr(array, \"sparse\") and array.dtypes.apply(is_sparse).any():\n",
      "/Users/alyssabrunen/anaconda3/lib/python3.11/site-packages/sklearn/utils/validation.py:605: FutureWarning: is_sparse is deprecated and will be removed in a future version. Check `isinstance(dtype, pd.SparseDtype)` instead.\n",
      "  if is_sparse(pd_dtype):\n",
      "/Users/alyssabrunen/anaconda3/lib/python3.11/site-packages/sklearn/utils/validation.py:614: FutureWarning: is_sparse is deprecated and will be removed in a future version. Check `isinstance(dtype, pd.SparseDtype)` instead.\n",
      "  if is_sparse(pd_dtype) or not is_extension_array_dtype(pd_dtype):\n",
      "/Users/alyssabrunen/anaconda3/lib/python3.11/site-packages/sklearn/utils/validation.py:767: FutureWarning: is_sparse is deprecated and will be removed in a future version. Check `isinstance(dtype, pd.SparseDtype)` instead.\n",
      "  if not hasattr(array, \"sparse\") and array.dtypes.apply(is_sparse).any():\n",
      "/Users/alyssabrunen/anaconda3/lib/python3.11/site-packages/sklearn/utils/validation.py:605: FutureWarning: is_sparse is deprecated and will be removed in a future version. Check `isinstance(dtype, pd.SparseDtype)` instead.\n",
      "  if is_sparse(pd_dtype):\n",
      "/Users/alyssabrunen/anaconda3/lib/python3.11/site-packages/sklearn/utils/validation.py:614: FutureWarning: is_sparse is deprecated and will be removed in a future version. Check `isinstance(dtype, pd.SparseDtype)` instead.\n",
      "  if is_sparse(pd_dtype) or not is_extension_array_dtype(pd_dtype):\n",
      "/Users/alyssabrunen/anaconda3/lib/python3.11/site-packages/sklearn/utils/validation.py:605: FutureWarning: is_sparse is deprecated and will be removed in a future version. Check `isinstance(dtype, pd.SparseDtype)` instead.\n",
      "  if is_sparse(pd_dtype):\n",
      "/Users/alyssabrunen/anaconda3/lib/python3.11/site-packages/sklearn/utils/validation.py:614: FutureWarning: is_sparse is deprecated and will be removed in a future version. Check `isinstance(dtype, pd.SparseDtype)` instead.\n",
      "  if is_sparse(pd_dtype) or not is_extension_array_dtype(pd_dtype):\n",
      "/Users/alyssabrunen/anaconda3/lib/python3.11/site-packages/sklearn/utils/validation.py:605: FutureWarning: is_sparse is deprecated and will be removed in a future version. Check `isinstance(dtype, pd.SparseDtype)` instead.\n",
      "  if is_sparse(pd_dtype):\n",
      "/Users/alyssabrunen/anaconda3/lib/python3.11/site-packages/sklearn/utils/validation.py:614: FutureWarning: is_sparse is deprecated and will be removed in a future version. Check `isinstance(dtype, pd.SparseDtype)` instead.\n",
      "  if is_sparse(pd_dtype) or not is_extension_array_dtype(pd_dtype):\n"
     ]
    }
   ],
   "source": [
    "# segmentation data\n",
    "segmentation_data = pd.DataFrame({'Cluster': kmeans.labels_})\n",
    "\n",
    "#X and y for Model 3\n",
    "X_model3 = pd.get_dummies(segmentation_data['Cluster'], prefix='cluster')\n",
    "y_model3 = (facebook_data['status_type'] == 'video').astype(int)\n",
    "\n",
    "# Making training and testing sets\n",
    "X_train3, X_test3, y_train3, y_test3 = train_test_split(X_model3, y_model3, test_size=0.2, random_state=42)\n",
    "\n",
    "# Fit logistic regression model\n",
    "log_reg_model3 = LogisticRegression(max_iter=1000)\n",
    "log_reg_model3.fit(X_train3, y_train3)\n",
    "\n",
    "# Predict and see the model accuracy\n",
    "y_pred3 = log_reg_model3.predict(X_test3)\n",
    "accuracy_model3 = accuracy_score(y_test3, y_pred3)\n",
    "print(\"Model 3 Accuracy:\", accuracy_model3)\n"
   ]
  },
  {
   "cell_type": "markdown",
   "metadata": {
    "deletable": false,
    "editable": false
   },
   "source": [
    "# Model Selection "
   ]
  },
  {
   "cell_type": "markdown",
   "metadata": {
    "deletable": false,
    "editable": false,
    "id": "x5ybP_LHqSpR"
   },
   "source": [
    "**Selecting the Best Model - Model 1**\n",
    "<br> <br>\n",
    "Out of the three models, Model 1 achieves the highest accuracy of 0.789, indicating better performance on the test data. A key performance indicator for classification is accuracy, and selecting the model with the best accuracy gives predictable results. Model 1 suggests that the underlying information in the original features is appropriate for accurate classification since it uses the original features without any dimensionality reduction or grouping. Model 1's interpretability and simplicity are improved by its reliance only on the original characteristics. In light of its higher accuracy and simple feature utilization, Model 1 is the best option for the classification for this analysis."
   ]
  },
  {
   "cell_type": "code",
   "execution_count": 19,
   "metadata": {
    "colab": {
     "base_uri": "https://localhost:8080/"
    },
    "deletable": false,
    "editable": false,
    "id": "fMBWk2ISoOGx",
    "outputId": "d38b6e42-ea05-45d9-ad15-c97a3b6c4b3c",
    "scrolled": true
   },
   "outputs": [
    {
     "name": "stdout",
     "output_type": "stream",
     "text": [
      "Model 1 Results:\n",
      "Accuracy: 0.7891304347826087\n",
      "AUC Score: 0.7062515535669899\n",
      "Train-test gap based on accuracy: 0.021430262005633027\n",
      "Train-test gap based on AUC score: 0.062018394233159246\n"
     ]
    },
    {
     "name": "stderr",
     "output_type": "stream",
     "text": [
      "/Users/alyssabrunen/anaconda3/lib/python3.11/site-packages/sklearn/utils/validation.py:605: FutureWarning: is_sparse is deprecated and will be removed in a future version. Check `isinstance(dtype, pd.SparseDtype)` instead.\n",
      "  if is_sparse(pd_dtype):\n",
      "/Users/alyssabrunen/anaconda3/lib/python3.11/site-packages/sklearn/utils/validation.py:614: FutureWarning: is_sparse is deprecated and will be removed in a future version. Check `isinstance(dtype, pd.SparseDtype)` instead.\n",
      "  if is_sparse(pd_dtype) or not is_extension_array_dtype(pd_dtype):\n",
      "/Users/alyssabrunen/anaconda3/lib/python3.11/site-packages/sklearn/utils/validation.py:605: FutureWarning: is_sparse is deprecated and will be removed in a future version. Check `isinstance(dtype, pd.SparseDtype)` instead.\n",
      "  if is_sparse(pd_dtype):\n",
      "/Users/alyssabrunen/anaconda3/lib/python3.11/site-packages/sklearn/utils/validation.py:614: FutureWarning: is_sparse is deprecated and will be removed in a future version. Check `isinstance(dtype, pd.SparseDtype)` instead.\n",
      "  if is_sparse(pd_dtype) or not is_extension_array_dtype(pd_dtype):\n",
      "/Users/alyssabrunen/anaconda3/lib/python3.11/site-packages/sklearn/utils/validation.py:605: FutureWarning: is_sparse is deprecated and will be removed in a future version. Check `isinstance(dtype, pd.SparseDtype)` instead.\n",
      "  if is_sparse(pd_dtype):\n",
      "/Users/alyssabrunen/anaconda3/lib/python3.11/site-packages/sklearn/utils/validation.py:614: FutureWarning: is_sparse is deprecated and will be removed in a future version. Check `isinstance(dtype, pd.SparseDtype)` instead.\n",
      "  if is_sparse(pd_dtype) or not is_extension_array_dtype(pd_dtype):\n",
      "/Users/alyssabrunen/anaconda3/lib/python3.11/site-packages/sklearn/utils/validation.py:605: FutureWarning: is_sparse is deprecated and will be removed in a future version. Check `isinstance(dtype, pd.SparseDtype)` instead.\n",
      "  if is_sparse(pd_dtype):\n",
      "/Users/alyssabrunen/anaconda3/lib/python3.11/site-packages/sklearn/utils/validation.py:614: FutureWarning: is_sparse is deprecated and will be removed in a future version. Check `isinstance(dtype, pd.SparseDtype)` instead.\n",
      "  if is_sparse(pd_dtype) or not is_extension_array_dtype(pd_dtype):\n",
      "/Users/alyssabrunen/anaconda3/lib/python3.11/site-packages/sklearn/utils/validation.py:605: FutureWarning: is_sparse is deprecated and will be removed in a future version. Check `isinstance(dtype, pd.SparseDtype)` instead.\n",
      "  if is_sparse(pd_dtype):\n",
      "/Users/alyssabrunen/anaconda3/lib/python3.11/site-packages/sklearn/utils/validation.py:614: FutureWarning: is_sparse is deprecated and will be removed in a future version. Check `isinstance(dtype, pd.SparseDtype)` instead.\n",
      "  if is_sparse(pd_dtype) or not is_extension_array_dtype(pd_dtype):\n",
      "/Users/alyssabrunen/anaconda3/lib/python3.11/site-packages/sklearn/utils/validation.py:605: FutureWarning: is_sparse is deprecated and will be removed in a future version. Check `isinstance(dtype, pd.SparseDtype)` instead.\n",
      "  if is_sparse(pd_dtype):\n",
      "/Users/alyssabrunen/anaconda3/lib/python3.11/site-packages/sklearn/utils/validation.py:614: FutureWarning: is_sparse is deprecated and will be removed in a future version. Check `isinstance(dtype, pd.SparseDtype)` instead.\n",
      "  if is_sparse(pd_dtype) or not is_extension_array_dtype(pd_dtype):\n",
      "/Users/alyssabrunen/anaconda3/lib/python3.11/site-packages/sklearn/utils/validation.py:767: FutureWarning: is_sparse is deprecated and will be removed in a future version. Check `isinstance(dtype, pd.SparseDtype)` instead.\n",
      "  if not hasattr(array, \"sparse\") and array.dtypes.apply(is_sparse).any():\n",
      "/Users/alyssabrunen/anaconda3/lib/python3.11/site-packages/sklearn/utils/validation.py:605: FutureWarning: is_sparse is deprecated and will be removed in a future version. Check `isinstance(dtype, pd.SparseDtype)` instead.\n",
      "  if is_sparse(pd_dtype):\n",
      "/Users/alyssabrunen/anaconda3/lib/python3.11/site-packages/sklearn/utils/validation.py:614: FutureWarning: is_sparse is deprecated and will be removed in a future version. Check `isinstance(dtype, pd.SparseDtype)` instead.\n",
      "  if is_sparse(pd_dtype) or not is_extension_array_dtype(pd_dtype):\n",
      "/Users/alyssabrunen/anaconda3/lib/python3.11/site-packages/sklearn/utils/validation.py:605: FutureWarning: is_sparse is deprecated and will be removed in a future version. Check `isinstance(dtype, pd.SparseDtype)` instead.\n",
      "  if is_sparse(pd_dtype):\n",
      "/Users/alyssabrunen/anaconda3/lib/python3.11/site-packages/sklearn/utils/validation.py:614: FutureWarning: is_sparse is deprecated and will be removed in a future version. Check `isinstance(dtype, pd.SparseDtype)` instead.\n",
      "  if is_sparse(pd_dtype) or not is_extension_array_dtype(pd_dtype):\n",
      "/Users/alyssabrunen/anaconda3/lib/python3.11/site-packages/sklearn/utils/validation.py:605: FutureWarning: is_sparse is deprecated and will be removed in a future version. Check `isinstance(dtype, pd.SparseDtype)` instead.\n",
      "  if is_sparse(pd_dtype):\n",
      "/Users/alyssabrunen/anaconda3/lib/python3.11/site-packages/sklearn/utils/validation.py:614: FutureWarning: is_sparse is deprecated and will be removed in a future version. Check `isinstance(dtype, pd.SparseDtype)` instead.\n",
      "  if is_sparse(pd_dtype) or not is_extension_array_dtype(pd_dtype):\n",
      "/Users/alyssabrunen/anaconda3/lib/python3.11/site-packages/sklearn/utils/validation.py:605: FutureWarning: is_sparse is deprecated and will be removed in a future version. Check `isinstance(dtype, pd.SparseDtype)` instead.\n",
      "  if is_sparse(pd_dtype):\n",
      "/Users/alyssabrunen/anaconda3/lib/python3.11/site-packages/sklearn/utils/validation.py:614: FutureWarning: is_sparse is deprecated and will be removed in a future version. Check `isinstance(dtype, pd.SparseDtype)` instead.\n",
      "  if is_sparse(pd_dtype) or not is_extension_array_dtype(pd_dtype):\n",
      "/Users/alyssabrunen/anaconda3/lib/python3.11/site-packages/sklearn/utils/validation.py:767: FutureWarning: is_sparse is deprecated and will be removed in a future version. Check `isinstance(dtype, pd.SparseDtype)` instead.\n",
      "  if not hasattr(array, \"sparse\") and array.dtypes.apply(is_sparse).any():\n",
      "/Users/alyssabrunen/anaconda3/lib/python3.11/site-packages/sklearn/utils/validation.py:605: FutureWarning: is_sparse is deprecated and will be removed in a future version. Check `isinstance(dtype, pd.SparseDtype)` instead.\n",
      "  if is_sparse(pd_dtype):\n",
      "/Users/alyssabrunen/anaconda3/lib/python3.11/site-packages/sklearn/utils/validation.py:614: FutureWarning: is_sparse is deprecated and will be removed in a future version. Check `isinstance(dtype, pd.SparseDtype)` instead.\n",
      "  if is_sparse(pd_dtype) or not is_extension_array_dtype(pd_dtype):\n",
      "/Users/alyssabrunen/anaconda3/lib/python3.11/site-packages/sklearn/utils/validation.py:605: FutureWarning: is_sparse is deprecated and will be removed in a future version. Check `isinstance(dtype, pd.SparseDtype)` instead.\n",
      "  if is_sparse(pd_dtype):\n",
      "/Users/alyssabrunen/anaconda3/lib/python3.11/site-packages/sklearn/utils/validation.py:614: FutureWarning: is_sparse is deprecated and will be removed in a future version. Check `isinstance(dtype, pd.SparseDtype)` instead.\n",
      "  if is_sparse(pd_dtype) or not is_extension_array_dtype(pd_dtype):\n",
      "/Users/alyssabrunen/anaconda3/lib/python3.11/site-packages/sklearn/utils/validation.py:605: FutureWarning: is_sparse is deprecated and will be removed in a future version. Check `isinstance(dtype, pd.SparseDtype)` instead.\n",
      "  if is_sparse(pd_dtype):\n",
      "/Users/alyssabrunen/anaconda3/lib/python3.11/site-packages/sklearn/utils/validation.py:614: FutureWarning: is_sparse is deprecated and will be removed in a future version. Check `isinstance(dtype, pd.SparseDtype)` instead.\n",
      "  if is_sparse(pd_dtype) or not is_extension_array_dtype(pd_dtype):\n",
      "/Users/alyssabrunen/anaconda3/lib/python3.11/site-packages/sklearn/utils/validation.py:605: FutureWarning: is_sparse is deprecated and will be removed in a future version. Check `isinstance(dtype, pd.SparseDtype)` instead.\n",
      "  if is_sparse(pd_dtype):\n",
      "/Users/alyssabrunen/anaconda3/lib/python3.11/site-packages/sklearn/utils/validation.py:614: FutureWarning: is_sparse is deprecated and will be removed in a future version. Check `isinstance(dtype, pd.SparseDtype)` instead.\n",
      "  if is_sparse(pd_dtype) or not is_extension_array_dtype(pd_dtype):\n"
     ]
    }
   ],
   "source": [
    "# getting accuracy and AUC score for Model 1\n",
    "accuracy_model1 = accuracy_score(y_test1, y_pred1)\n",
    "auc_score_model1 = roc_auc_score(y_test1, y_pred1)\n",
    "\n",
    "# Train-test gap based on accuracy\n",
    "accuracy_train_test_gap = abs(accuracy_model1 - log_reg_model1.score(X_train1, y_train1))\n",
    "\n",
    "# Train-test gap based on AUC score\n",
    "y_pred_proba1 = log_reg_model1.predict_proba(X_test1)[:, 1]\n",
    "auc_train_test_gap = abs(auc_score_model1 - roc_auc_score(y_test1, y_pred_proba1))\n",
    "\n",
    "# Showing all the model results for accuracy, AUC score and the Train test Gap for both \n",
    "print(\"Model 1 Results:\") \n",
    "print(f\"Accuracy: {accuracy_model1}\")\n",
    "print(f\"AUC Score: {auc_score_model1}\")\n",
    "print(f\"Train-test gap based on accuracy: {accuracy_train_test_gap}\")\n",
    "print(f\"Train-test gap based on AUC score: {auc_train_test_gap}\")"
   ]
  },
  {
   "cell_type": "markdown",
   "metadata": {
    "deletable": false,
    "editable": false
   },
   "source": [
    "**Confusion Matrix**"
   ]
  },
  {
   "cell_type": "code",
   "execution_count": 20,
   "metadata": {
    "colab": {
     "base_uri": "https://localhost:8080/"
    },
    "deletable": false,
    "editable": false,
    "id": "L8YZErc0o9Sm",
    "outputId": "c8f6f112-3bc4-461b-c5e8-b6ef56a07304"
   },
   "outputs": [
    {
     "name": "stdout",
     "output_type": "stream",
     "text": [
      "\n",
      "Confusion Matrix for Model 1 aka the best model:\n",
      "[[294   4]\n",
      " [ 93  69]]\n"
     ]
    },
    {
     "name": "stderr",
     "output_type": "stream",
     "text": [
      "/Users/alyssabrunen/anaconda3/lib/python3.11/site-packages/sklearn/utils/validation.py:605: FutureWarning: is_sparse is deprecated and will be removed in a future version. Check `isinstance(dtype, pd.SparseDtype)` instead.\n",
      "  if is_sparse(pd_dtype):\n",
      "/Users/alyssabrunen/anaconda3/lib/python3.11/site-packages/sklearn/utils/validation.py:614: FutureWarning: is_sparse is deprecated and will be removed in a future version. Check `isinstance(dtype, pd.SparseDtype)` instead.\n",
      "  if is_sparse(pd_dtype) or not is_extension_array_dtype(pd_dtype):\n",
      "/Users/alyssabrunen/anaconda3/lib/python3.11/site-packages/sklearn/utils/validation.py:605: FutureWarning: is_sparse is deprecated and will be removed in a future version. Check `isinstance(dtype, pd.SparseDtype)` instead.\n",
      "  if is_sparse(pd_dtype):\n",
      "/Users/alyssabrunen/anaconda3/lib/python3.11/site-packages/sklearn/utils/validation.py:614: FutureWarning: is_sparse is deprecated and will be removed in a future version. Check `isinstance(dtype, pd.SparseDtype)` instead.\n",
      "  if is_sparse(pd_dtype) or not is_extension_array_dtype(pd_dtype):\n",
      "/Users/alyssabrunen/anaconda3/lib/python3.11/site-packages/sklearn/utils/validation.py:605: FutureWarning: is_sparse is deprecated and will be removed in a future version. Check `isinstance(dtype, pd.SparseDtype)` instead.\n",
      "  if is_sparse(pd_dtype):\n",
      "/Users/alyssabrunen/anaconda3/lib/python3.11/site-packages/sklearn/utils/validation.py:614: FutureWarning: is_sparse is deprecated and will be removed in a future version. Check `isinstance(dtype, pd.SparseDtype)` instead.\n",
      "  if is_sparse(pd_dtype) or not is_extension_array_dtype(pd_dtype):\n"
     ]
    }
   ],
   "source": [
    "# Confusion matrix for Model 1\n",
    "conf_matrix_model1 = confusion_matrix(y_test1, y_pred1)\n",
    "print(\"\\nConfusion Matrix for Model 1 aka the best model:\")\n",
    "print(conf_matrix_model1)"
   ]
  },
  {
   "cell_type": "markdown",
   "metadata": {
    "deletable": false,
    "editable": false,
    "id": "4hqivh6qpEKH"
   },
   "source": [
    "\n",
    "<br><br>\n",
    "**True Positives** \n",
    "<br>These 294 occurrences are representative of the model's accurate predictions of video uploads as videos.\n",
    "<br><br>\n",
    "**True Negatives** \n",
    "<br>These cases show that the algorithm correctly identified 69 genuine negatives from non-video postings by classifying them as non-videos.\n",
    "<br><br>\n",
    "**False Positives** <br>\n",
    "These cases show that the model misinterpreted non-video postings as videos, resulting in four false positives. The possibility of misallocating resources to video material that might not receive the anticipated level of interaction exists with false positives.\n",
    "<br><br>\n",
    "**False Negatives** <br>\n",
    "These cases indicate that the model misclassified 93 false negatives, or video postings, as non-videos. False negatives carry the danger of causing interesting video material to be overlooked, which might affect the effectiveness of the content strategy as a whole.\n",
    "<br><br>\n",
    "False negatives have a greater risk in this situation as they might result in lost chances to interact with video material. On the other hand, false positives may have a less effect on engagement levels than false negatives, even if they may lead to an inefficient use of resources."
   ]
  }
 ],
 "metadata": {
  "colab": {
   "provenance": []
  },
  "kernelspec": {
   "display_name": "Python 3 (ipykernel)",
   "language": "python",
   "name": "python3"
  },
  "language_info": {
   "codemirror_mode": {
    "name": "ipython",
    "version": 3
   },
   "file_extension": ".py",
   "mimetype": "text/x-python",
   "name": "python",
   "nbconvert_exporter": "python",
   "pygments_lexer": "ipython3",
   "version": "3.11.5"
  },
  "toc": {
   "base_numbering": 1,
   "nav_menu": {},
   "number_sections": true,
   "sideBar": true,
   "skip_h1_title": false,
   "title_cell": "Table of Contents",
   "title_sidebar": "Contents",
   "toc_cell": false,
   "toc_position": {},
   "toc_section_display": true,
   "toc_window_display": false
  },
  "varInspector": {
   "cols": {
    "lenName": 16,
    "lenType": 16,
    "lenVar": 40
   },
   "kernels_config": {
    "python": {
     "delete_cmd_postfix": "",
     "delete_cmd_prefix": "del ",
     "library": "var_list.py",
     "varRefreshCmd": "print(var_dic_list())"
    },
    "r": {
     "delete_cmd_postfix": ") ",
     "delete_cmd_prefix": "rm(",
     "library": "var_list.r",
     "varRefreshCmd": "cat(var_dic_list()) "
    }
   },
   "types_to_exclude": [
    "module",
    "function",
    "builtin_function_or_method",
    "instance",
    "_Feature"
   ],
   "window_display": false
  }
 },
 "nbformat": 4,
 "nbformat_minor": 1
}
